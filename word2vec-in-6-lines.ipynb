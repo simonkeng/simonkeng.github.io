{
 "cells": [
  {
   "cell_type": "markdown",
   "metadata": {},
   "source": [
    "# Word2Vec in 6 lines of Python\n",
    "\n",
    "- 6 lines, not including the analysis\n",
    "- Using [project gutenberg](http://www.gutenberg.org/wiki/Main_Page) to obtain data. \n",
    "- [Input data used in this walkthrough](http://www.gutenberg.org/ebooks/1041)\n",
    "    \n",
    "    \n",
    "    1  import requests\n",
    "    2  import gensim\n",
    "    3  url = 'http://www.gutenberg.org/cache/epub/1041/pg1041.txt'\n",
    "    4  text = requests.get(url).text\n",
    "    5  tokens = gensim.utils.simple_preprocess(t)\n",
    "    6  model = gensim.models.Word2Vec([tokens], min_count=3, size=100)\n",
    "\n",
    "-----\n",
    "\n",
    "## Breakdown of this code"
   ]
  },
  {
   "cell_type": "code",
   "execution_count": 1,
   "metadata": {
    "collapsed": true
   },
   "outputs": [],
   "source": [
    "import requests"
   ]
  },
  {
   "cell_type": "code",
   "execution_count": 2,
   "metadata": {
    "collapsed": true
   },
   "outputs": [],
   "source": [
    "def fetch(url):\n",
    "    '''input url, output text from page'''\n",
    "    r = requests.get(url).text\n",
    "    return r"
   ]
  },
  {
   "cell_type": "code",
   "execution_count": 3,
   "metadata": {
    "collapsed": true
   },
   "outputs": [],
   "source": [
    "# fetch Shakespeare's sonnets\n",
    "text = fetch('http://www.gutenberg.org/cache/epub/1041/pg1041.txt')"
   ]
  },
  {
   "cell_type": "code",
   "execution_count": 4,
   "metadata": {},
   "outputs": [
    {
     "data": {
      "text/plain": [
       "u\"own bright eyes,\\r\\n  Feed'st thy light's flame with self-substantial fuel,\\r\\n  Making a famine where abundance lies,\\r\\n  Thy self thy foe, to thy sweet self too cruel:\\r\\n  Thou that art now the world's fresh ornament,\\r\\n  And only herald to the gaudy spring,\\r\\n  Within thine own bud buriest thy content,\\r\\n  And tender churl mak'st waste in niggarding:\\r\\n    Pity the world, or else this glutton be,\\r\\n    To eat the world's due, by the grave and thee.\\r\\n\\r\\n  II\\r\\n\\r\\n  When forty winters shall besiege thy brow,\\r\\n  And dig deep trenches in thy beauty's field,\\r\\n  Thy youth's proud livery so gazed on now,\\r\\n  Will be a tatter'd weed of small worth held:\\r\\n  Then being asked, where all thy beauty lies,\\r\\n  Where all the treasure of thy lusty days;\\r\\n  To say, within thine own deep sunken eyes,\\r\\n  Were an all-eating shame, and thriftless praise.\\r\\n  How much more praise deserv'd thy beauty's use,\\r\\n  If thou couldst answer 'This fair child of mine\\r\\n  Shall sum my count, and make my old excuse,'\\r\\n  Proving his beauty by succession thine!\\r\\n    This were to be new made when thou art old,\\r\\n    And see thy blood warm when thou feel'st it cold.\\r\\n\\r\\n  III\\r\\n\\r\\n  Look in thy glass and tell the face thou viewest\\r\\n  Now is the time that face should form another;\\r\\n  Whose fresh repair if now thou not renewest,\\r\\n  Thou dost beguile the world, unbless some mother.\\r\\n  For where is she so fair whose unear'd womb\\r\\n  Disdains the tillage of thy husbandry?\\r\\n  Or who is he so fond will be the tomb,\\r\\n  Of his self-love to stop posterity?\\r\\n  Thou art thy mother's glass and she in thee\\r\\n  Calls back the lovely April of her prime;\\r\\n  So thou through windows of thine age shalt see,\\r\\n  Despite of wrinkles this thy golden time.\\r\\n    But if thou live, remember'd not to be,\\r\\n    Die single and thine image dies with thee.\\r\\n\\r\\n  IV\\r\\n\\r\\n  Unthrifty loveliness, why dost thou spend\\r\\n  Upon thy self thy beauty's legacy?\\r\\n  Nature's bequest gives nothing, but doth lend,\\r\\n  And being frank she lends to those are free:\\r\\n  Then, beaute\""
      ]
     },
     "execution_count": 4,
     "metadata": {},
     "output_type": "execute_result"
    }
   ],
   "source": [
    "text[1000:3001]"
   ]
  },
  {
   "cell_type": "code",
   "execution_count": 5,
   "metadata": {
    "collapsed": true
   },
   "outputs": [],
   "source": [
    "import gensim\n",
    "tokenized = gensim.utils.simple_preprocess(text)"
   ]
  },
  {
   "cell_type": "code",
   "execution_count": 6,
   "metadata": {},
   "outputs": [
    {
     "data": {
      "text/plain": [
       "20247"
      ]
     },
     "execution_count": 6,
     "metadata": {},
     "output_type": "execute_result"
    }
   ],
   "source": [
    "len(tokenized)"
   ]
  },
  {
   "cell_type": "code",
   "execution_count": 7,
   "metadata": {},
   "outputs": [
    {
     "data": {
      "text/plain": [
       "[u'in',\n",
       " u'single',\n",
       " u'life',\n",
       " u'ah',\n",
       " u'if',\n",
       " u'thou',\n",
       " u'issueless',\n",
       " u'shalt',\n",
       " u'hap',\n",
       " u'to',\n",
       " u'die',\n",
       " u'the',\n",
       " u'world',\n",
       " u'will',\n",
       " u'wail',\n",
       " u'thee',\n",
       " u'like',\n",
       " u'makeless',\n",
       " u'wife',\n",
       " u'the',\n",
       " u'world']"
      ]
     },
     "execution_count": 7,
     "metadata": {},
     "output_type": "execute_result"
    }
   ],
   "source": [
    "tokenized[1000:1021]"
   ]
  },
  {
   "cell_type": "markdown",
   "metadata": {},
   "source": [
    "## Explore the corpus, find most frequently occuring tokens"
   ]
  },
  {
   "cell_type": "code",
   "execution_count": 8,
   "metadata": {
    "collapsed": true
   },
   "outputs": [],
   "source": [
    "# find the frequency of each word in list\n",
    "def freq(tokens):\n",
    "    '''input list tokens, output frequency of each token'''\n",
    "    word_freq = [tokens.count(p) for p in tokens]\n",
    "    return zip(tokens, word_freq)"
   ]
  },
  {
   "cell_type": "code",
   "execution_count": 9,
   "metadata": {
    "collapsed": true
   },
   "outputs": [],
   "source": [
    "freq_list = freq(tokenized)"
   ]
  },
  {
   "cell_type": "code",
   "execution_count": 10,
   "metadata": {},
   "outputs": [
    {
     "data": {
      "text/plain": [
       "20247"
      ]
     },
     "execution_count": 10,
     "metadata": {},
     "output_type": "execute_result"
    }
   ],
   "source": [
    "len(freq_list)"
   ]
  },
  {
   "cell_type": "code",
   "execution_count": 11,
   "metadata": {},
   "outputs": [
    {
     "data": {
      "text/plain": [
       "[(u'by', 118),\n",
       " (u'william', 4),\n",
       " (u'shakespeare', 9),\n",
       " (u'from', 97),\n",
       " (u'fairest', 5),\n",
       " (u'creatures', 2),\n",
       " (u'we', 24),\n",
       " (u'desire', 11),\n",
       " (u'increase', 4),\n",
       " (u'that', 338),\n",
       " (u'thereby', 2),\n",
       " (u'beauty', 70),\n",
       " (u'rose', 6),\n",
       " (u'might', 26),\n",
       " (u'never', 16),\n",
       " (u'die', 12),\n",
       " (u'but', 168),\n",
       " (u'as', 132),\n",
       " (u'the', 613),\n",
       " (u'riper', 2),\n",
       " (u'should', 46)]"
      ]
     },
     "execution_count": 11,
     "metadata": {},
     "output_type": "execute_result"
    }
   ],
   "source": [
    "freq_list[100:121]"
   ]
  },
  {
   "cell_type": "code",
   "execution_count": 12,
   "metadata": {},
   "outputs": [
    {
     "data": {
      "text/plain": [
       "[(u'the', 613),\n",
       " (u'and', 560),\n",
       " (u'to', 495),\n",
       " (u'of', 488),\n",
       " (u'in', 380),\n",
       " (u'my', 372),\n",
       " (u'that', 338),\n",
       " (u'thy', 281),\n",
       " (u'thou', 235),\n",
       " (u'with', 228),\n",
       " (u'for', 198),\n",
       " (u'love', 195),\n",
       " (u'is', 194),\n",
       " (u'not', 188),\n",
       " (u'you', 183),\n",
       " (u'but', 168),\n",
       " (u'me', 164),\n",
       " (u'thee', 162),\n",
       " (u'be', 160),\n",
       " (u'or', 157)]"
      ]
     },
     "execution_count": 12,
     "metadata": {},
     "output_type": "execute_result"
    }
   ],
   "source": [
    "# the above method is okay, but its not sorted.\n",
    "\n",
    "# A more direct and easy route that \n",
    "# sorts by most frequently occuring tokens,\n",
    "# uses the Counter method from the collections library.\n",
    "# And its much less code!\n",
    "\n",
    "from collections import Counter\n",
    "c = Counter(tokenized)\n",
    "c.most_common(20)"
   ]
  },
  {
   "cell_type": "markdown",
   "metadata": {},
   "source": [
    "## Build model & start analyzing"
   ]
  },
  {
   "cell_type": "code",
   "execution_count": 13,
   "metadata": {
    "collapsed": true
   },
   "outputs": [],
   "source": [
    "model = gensim.models.Word2Vec([tokenized], min_count=3, size=100)"
   ]
  },
  {
   "cell_type": "code",
   "execution_count": 14,
   "metadata": {
    "scrolled": true
   },
   "outputs": [
    {
     "data": {
      "text/plain": [
       "0.99754001960964001"
      ]
     },
     "execution_count": 14,
     "metadata": {},
     "output_type": "execute_result"
    }
   ],
   "source": [
    "model.wv.similarity('man', 'woman')"
   ]
  },
  {
   "cell_type": "code",
   "execution_count": 15,
   "metadata": {},
   "outputs": [
    {
     "data": {
      "text/plain": [
       "0.99999999999999989"
      ]
     },
     "execution_count": 15,
     "metadata": {},
     "output_type": "execute_result"
    }
   ],
   "source": [
    "model.wv.similarity('woman', 'woman')"
   ]
  },
  {
   "cell_type": "code",
   "execution_count": 16,
   "metadata": {},
   "outputs": [
    {
     "data": {
      "text/plain": [
       "array([ 0.08202583,  0.0824983 , -0.02512474,  0.10419195, -0.07338882,\n",
       "        0.0139989 , -0.04520747, -0.08931259, -0.00980864,  0.08530603,\n",
       "        0.02788235, -0.09535816, -0.04542717,  0.03349644, -0.0123863 ,\n",
       "        0.10691798,  0.04491619, -0.05606038,  0.01234527, -0.02241415,\n",
       "       -0.13179505, -0.06530344,  0.06341996,  0.14719738, -0.01375049,\n",
       "        0.02527826, -0.05636869,  0.10421619, -0.06053819, -0.08885699,\n",
       "       -0.01531487,  0.1431126 ,  0.06862741, -0.00553441,  0.02370683,\n",
       "        0.05022854,  0.00748868,  0.01143656, -0.00389735, -0.07261071,\n",
       "       -0.03773026,  0.04934052, -0.07664131, -0.0411126 ,  0.00539695,\n",
       "       -0.0596255 ,  0.03303362,  0.01071489, -0.03568818,  0.03480463,\n",
       "        0.00367257, -0.00189138, -0.027572  , -0.03023884, -0.0280238 ,\n",
       "        0.00030319, -0.00260339, -0.030462  , -0.13635485,  0.02629017,\n",
       "       -0.06364894,  0.04515765, -0.02659768, -0.03539969, -0.01832859,\n",
       "        0.00489723, -0.08884388,  0.05692488,  0.08720477,  0.00893202,\n",
       "       -0.04438996, -0.0401402 , -0.04898106,  0.02646905, -0.1108785 ,\n",
       "       -0.05100903, -0.06045908,  0.07902717, -0.0161067 , -0.00328433,\n",
       "       -0.02594371,  0.07714844,  0.01347714, -0.02698018,  0.00047195,\n",
       "        0.0966561 ,  0.00045146, -0.08884953,  0.04051106,  0.05760375,\n",
       "       -0.04164189,  0.02208702, -0.0073052 , -0.01041839, -0.00960741,\n",
       "       -0.03186337,  0.05618915, -0.01351432,  0.0080917 , -0.01386721], dtype=float32)"
      ]
     },
     "execution_count": 16,
     "metadata": {},
     "output_type": "execute_result"
    }
   ],
   "source": [
    "model['woman']"
   ]
  },
  {
   "cell_type": "code",
   "execution_count": 17,
   "metadata": {
    "collapsed": true
   },
   "outputs": [],
   "source": [
    "vec1 = model['woman']"
   ]
  },
  {
   "cell_type": "code",
   "execution_count": 18,
   "metadata": {},
   "outputs": [
    {
     "data": {
      "text/plain": [
       "[(u'woman', 1.0000001192092896),\n",
       " (u'she', 0.9988530278205872),\n",
       " (u'might', 0.9988079071044922),\n",
       " (u'of', 0.9987846612930298),\n",
       " (u'hate', 0.9987770318984985),\n",
       " (u'still', 0.9987694025039673),\n",
       " (u'upon', 0.9987680912017822),\n",
       " (u'it', 0.9987677931785583),\n",
       " (u'when', 0.998759388923645),\n",
       " (u'should', 0.9987472295761108),\n",
       " (u'you', 0.9987443685531616),\n",
       " (u'thee', 0.9987438321113586),\n",
       " (u'her', 0.998740553855896),\n",
       " (u'fair', 0.9987391233444214),\n",
       " (u'every', 0.9987378120422363)]"
      ]
     },
     "execution_count": 18,
     "metadata": {},
     "output_type": "execute_result"
    }
   ],
   "source": [
    "model.wv.similar_by_vector(vec1, topn=15)"
   ]
  },
  {
   "cell_type": "code",
   "execution_count": 19,
   "metadata": {},
   "outputs": [
    {
     "data": {
      "text/plain": [
       "[(u'men', 1.0),\n",
       " (u'thou', 0.9996335506439209),\n",
       " (u'their', 0.999630331993103),\n",
       " (u'at', 0.9996273517608643),\n",
       " (u'as', 0.9996235966682434),\n",
       " (u'and', 0.9996190071105957),\n",
       " (u'of', 0.9996188282966614),\n",
       " (u'world', 0.9996161460876465),\n",
       " (u'my', 0.9996157884597778),\n",
       " (u'his', 0.999614953994751),\n",
       " (u'where', 0.9996145963668823),\n",
       " (u'with', 0.9996132850646973),\n",
       " (u'by', 0.9996117949485779),\n",
       " (u'heart', 0.9996115565299988),\n",
       " (u'me', 0.999609112739563)]"
      ]
     },
     "execution_count": 19,
     "metadata": {},
     "output_type": "execute_result"
    }
   ],
   "source": [
    "v = model['men']\n",
    "model.wv.similar_by_vector(v, topn=15)"
   ]
  },
  {
   "cell_type": "code",
   "execution_count": 20,
   "metadata": {},
   "outputs": [
    {
     "data": {
      "text/plain": [
       "[(u'women', 1.0),\n",
       " (u'gift', 0.9818852543830872),\n",
       " (u'fire', 0.9817575812339783),\n",
       " (u'mistress', 0.9816043376922607),\n",
       " (u'smell', 0.9815888404846191),\n",
       " (u'cheeks', 0.9814128279685974),\n",
       " (u'youth', 0.9812649488449097),\n",
       " (u'worse', 0.9809892177581787),\n",
       " (u'vile', 0.9809786677360535),\n",
       " (u'told', 0.9809551239013672),\n",
       " (u'must', 0.9809184074401855),\n",
       " (u'could', 0.9808851480484009),\n",
       " (u'put', 0.9808494448661804),\n",
       " (u'absence', 0.9808334112167358),\n",
       " (u'away', 0.980821430683136)]"
      ]
     },
     "execution_count": 20,
     "metadata": {},
     "output_type": "execute_result"
    }
   ],
   "source": [
    "v = model['women']\n",
    "model.wv.similar_by_vector(v, topn=15)"
   ]
  },
  {
   "cell_type": "code",
   "execution_count": 21,
   "metadata": {},
   "outputs": [
    {
     "data": {
      "text/plain": [
       "[(u'love', 1.0),\n",
       " (u'and', 0.999951183795929),\n",
       " (u'my', 0.9999462366104126),\n",
       " (u'in', 0.9999434947967529),\n",
       " (u'so', 0.9999430179595947),\n",
       " (u'thou', 0.9999426603317261),\n",
       " (u'of', 0.9999403357505798),\n",
       " (u'thy', 0.9999395608901978),\n",
       " (u'that', 0.9999392032623291),\n",
       " (u'to', 0.9999375343322754),\n",
       " (u'doth', 0.9999368190765381),\n",
       " (u'the', 0.9999354481697083),\n",
       " (u'me', 0.9999353885650635),\n",
       " (u'is', 0.9999339580535889),\n",
       " (u'have', 0.9999337196350098),\n",
       " (u'with', 0.9999337196350098),\n",
       " (u'no', 0.9999331831932068),\n",
       " (u'their', 0.9999323487281799),\n",
       " (u'do', 0.9999316334724426),\n",
       " (u'which', 0.999929666519165)]"
      ]
     },
     "execution_count": 21,
     "metadata": {},
     "output_type": "execute_result"
    }
   ],
   "source": [
    "v = model['love']\n",
    "model.wv.similar_by_vector(v, topn=20)"
   ]
  },
  {
   "cell_type": "code",
   "execution_count": null,
   "metadata": {
    "collapsed": true
   },
   "outputs": [],
   "source": []
  }
 ],
 "metadata": {
  "kernelspec": {
   "display_name": "Python 2",
   "language": "python",
   "name": "python2"
  },
  "language_info": {
   "codemirror_mode": {
    "name": "ipython",
    "version": 2
   },
   "file_extension": ".py",
   "mimetype": "text/x-python",
   "name": "python",
   "nbconvert_exporter": "python",
   "pygments_lexer": "ipython2",
   "version": "2.7.13"
  }
 },
 "nbformat": 4,
 "nbformat_minor": 2
}
