{
 "cells": [
  {
   "cell_type": "markdown",
   "metadata": {},
   "source": [
    "# Word2Vec in 6 lines of Python\n",
    "\n",
    "- 6 lines, not including the analysis\n",
    "- Using [project gutenberg](http://www.gutenberg.org/wiki/Main_Page) to obtain data. \n",
    "- [Input data used in this walkthrough](http://www.gutenberg.org/ebooks/1041) \n",
    "    \n",
    "    1  import requests\n",
    "    2  import gensim\n",
    "    3  url = 'http://www.gutenberg.org/cache/epub/1041/pg1041.txt'\n",
    "    4  text = requests.get(url).text\n",
    "    5  tokens = gensim.utils.simple_preprocess(text)\n",
    "    6  model = gensim.models.Word2Vec([tokens], min_count=3, size=100)\n",
    "-----\n",
    "\n",
    "## Breakdown of this code"
   ]
  },
  {
   "cell_type": "code",
   "execution_count": 1,
   "metadata": {
    "collapsed": true
   },
   "outputs": [],
   "source": [
    "import requests"
   ]
  },
  {
   "cell_type": "code",
   "execution_count": 2,
   "metadata": {
    "collapsed": true
   },
   "outputs": [],
   "source": [
    "def fetch(url):\n",
    "    '''input url, output text from page'''\n",
    "    r = requests.get(url).text\n",
    "    return r"
   ]
  },
  {
   "cell_type": "code",
   "execution_count": 7,
   "metadata": {
    "collapsed": true
   },
   "outputs": [],
   "source": [
    "# fetch Shakespeare's sonnets\n",
    "text = fetch('http://www.gutenberg.org/cache/epub/1041/pg1041.txt')"
   ]
  },
  {
   "cell_type": "code",
   "execution_count": 8,
   "metadata": {},
   "outputs": [
    {
     "data": {
      "text/plain": [
       "122778"
      ]
     },
     "execution_count": 8,
     "metadata": {},
     "output_type": "execute_result"
    }
   ],
   "source": [
    "len(text)"
   ]
  },
  {
   "cell_type": "code",
   "execution_count": 12,
   "metadata": {},
   "outputs": [
    {
     "data": {
      "text/plain": [
       "u\"own bright eyes,\\r\\n  Feed'st thy light's flame with self-substantial fuel,\\r\\n  Making a famine where abundance lies,\\r\\n  Thy self thy foe, to thy sweet self too cruel:\\r\\n  Thou that art now the world's fresh ornament,\\r\\n  And only herald to the gaudy spring,\\r\\n  Within thine own bud buriest thy content,\\r\\n  And tender churl mak'st waste in niggarding:\\r\\n    Pity the world, or else this glutton be,\\r\\n    To eat the world's due, by the grave and thee.\\r\\n\\r\\n  II\\r\\n\\r\\n  When forty winters shall besiege thy brow,\\r\\n  And dig deep trenches in thy beauty's field,\\r\\n  Thy youth's proud livery so gazed on now,\\r\\n  Will be a tatter'd weed of small worth held:\\r\\n  Then being asked, where all thy beauty lies,\\r\\n  Where all the treasure of thy lusty days;\\r\\n  To say, within thine own deep sunken eyes,\\r\\n  Were an all-eating shame, and thriftless praise.\\r\\n  How much more praise deserv'd thy beauty's use,\\r\\n  If thou couldst answer 'This fair child of mine\\r\\n  Shall sum my count, and make my old excuse,'\\r\\n  Proving his beauty by succession thine!\\r\\n    This were to be new made when thou art old,\\r\\n    And see thy blood warm when thou feel'st it cold.\\r\\n\\r\\n  III\\r\\n\\r\\n  Look in thy glass and tell the face thou viewest\\r\\n  Now is the time that face should form another;\\r\\n  Whose fresh repair if now thou not renewest,\\r\\n  Thou dost beguile the world, unbless some mother.\\r\\n  For where is she so fair whose unear'd womb\\r\\n  Disdains the tillage of thy husbandry?\\r\\n  Or who is he so fond will be the tomb,\\r\\n  Of his self-love to stop posterity?\\r\\n  Thou art thy mother's glass and she in thee\\r\\n  Calls back the lovely April of her prime;\\r\\n  So thou through windows of thine age shalt see,\\r\\n  Despite of wrinkles this thy golden time.\\r\\n    But if thou live, remember'd not to be,\\r\\n    Die single and thine image dies with thee.\\r\\n\\r\\n  IV\\r\\n\\r\\n  Unthrifty loveliness, why dost thou spend\\r\\n  Upon thy self thy beauty's legacy?\\r\\n  Nature's bequest gives nothing, but doth lend,\\r\\n  And being frank she lends to those are free:\\r\\n  Then, beaute\""
      ]
     },
     "execution_count": 12,
     "metadata": {},
     "output_type": "execute_result"
    }
   ],
   "source": [
    "# take a look at what we have\n",
    "# its dirty\n",
    "text[1000:3001]"
   ]
  },
  {
   "cell_type": "code",
   "execution_count": 13,
   "metadata": {
    "collapsed": true
   },
   "outputs": [],
   "source": [
    "import gensim\n",
    "tokenized = gensim.utils.simple_preprocess(text)"
   ]
  },
  {
   "cell_type": "code",
   "execution_count": 14,
   "metadata": {},
   "outputs": [
    {
     "data": {
      "text/plain": [
       "20247"
      ]
     },
     "execution_count": 14,
     "metadata": {},
     "output_type": "execute_result"
    }
   ],
   "source": [
    "len(tokenized)"
   ]
  },
  {
   "cell_type": "code",
   "execution_count": 15,
   "metadata": {},
   "outputs": [
    {
     "data": {
      "text/plain": [
       "[u'in',\n",
       " u'single',\n",
       " u'life',\n",
       " u'ah',\n",
       " u'if',\n",
       " u'thou',\n",
       " u'issueless',\n",
       " u'shalt',\n",
       " u'hap',\n",
       " u'to',\n",
       " u'die',\n",
       " u'the',\n",
       " u'world',\n",
       " u'will',\n",
       " u'wail',\n",
       " u'thee',\n",
       " u'like',\n",
       " u'makeless',\n",
       " u'wife',\n",
       " u'the',\n",
       " u'world']"
      ]
     },
     "execution_count": 15,
     "metadata": {},
     "output_type": "execute_result"
    }
   ],
   "source": [
    "# cleaned up\n",
    "tokenized[1000:1021]"
   ]
  },
  {
   "cell_type": "markdown",
   "metadata": {},
   "source": [
    "## Explore the corpus"
   ]
  },
  {
   "cell_type": "code",
   "execution_count": 20,
   "metadata": {
    "scrolled": true
   },
   "outputs": [
    {
     "data": {
      "text/plain": [
       "[(u'the', 613),\n",
       " (u'and', 560),\n",
       " (u'to', 495),\n",
       " (u'of', 488),\n",
       " (u'in', 380),\n",
       " (u'my', 372),\n",
       " (u'that', 338),\n",
       " (u'thy', 281),\n",
       " (u'thou', 235),\n",
       " (u'with', 228),\n",
       " (u'for', 198),\n",
       " (u'love', 195),\n",
       " (u'is', 194),\n",
       " (u'not', 188),\n",
       " (u'you', 183),\n",
       " (u'but', 168),\n",
       " (u'me', 164),\n",
       " (u'thee', 162),\n",
       " (u'be', 160),\n",
       " (u'or', 157)]"
      ]
     },
     "execution_count": 20,
     "metadata": {},
     "output_type": "execute_result"
    }
   ],
   "source": [
    "from collections import Counter\n",
    "\n",
    "# find the frequency of each word in list\n",
    "# NLP speak: most frequently occuring tokens in corpus\n",
    "\n",
    "c = Counter(tokenized)\n",
    "c.most_common(20) # top 20"
   ]
  },
  {
   "cell_type": "markdown",
   "metadata": {},
   "source": [
    "## Build model"
   ]
  },
  {
   "cell_type": "code",
   "execution_count": 37,
   "metadata": {
    "collapsed": true
   },
   "outputs": [],
   "source": [
    "# min_count = must appear at least 3 times\n",
    "# size = dimensionality of the feature vectors\n",
    "model = gensim.models.Word2Vec([tokenized], min_count=3, size=100)"
   ]
  },
  {
   "cell_type": "code",
   "execution_count": 38,
   "metadata": {
    "scrolled": true
   },
   "outputs": [
    {
     "data": {
      "text/plain": [
       "0.99722207209177871"
      ]
     },
     "execution_count": 38,
     "metadata": {},
     "output_type": "execute_result"
    }
   ],
   "source": [
    "model.wv.similarity('man', 'woman')"
   ]
  },
  {
   "cell_type": "code",
   "execution_count": 39,
   "metadata": {},
   "outputs": [
    {
     "data": {
      "text/plain": [
       "0.99999999999999989"
      ]
     },
     "execution_count": 39,
     "metadata": {},
     "output_type": "execute_result"
    }
   ],
   "source": [
    "model.wv.similarity('woman', 'woman')"
   ]
  },
  {
   "cell_type": "code",
   "execution_count": 40,
   "metadata": {},
   "outputs": [
    {
     "data": {
      "text/plain": [
       "array([ 0.51965952,  0.55235094, -0.17475532,  0.64651948, -0.48291188,\n",
       "        0.06080499, -0.27537176, -0.53690392, -0.08770045,  0.50699908,\n",
       "        0.17042752, -0.56355774, -0.26045609,  0.20165233, -0.07852872,\n",
       "        0.66898388,  0.30179507, -0.32529974,  0.09284518, -0.15472995,\n",
       "       -0.80867547, -0.37871212,  0.3926107 ,  0.90615118, -0.08342564,\n",
       "        0.16193688, -0.32557613,  0.65092826, -0.358367  , -0.59081411,\n",
       "       -0.07039595,  0.87389702,  0.44004893, -0.04361319,  0.13640521,\n",
       "        0.32703295,  0.03798396,  0.06206302, -0.03943499, -0.43150824,\n",
       "       -0.25584692,  0.31193838, -0.46332827, -0.24257505,  0.02769107,\n",
       "       -0.37423518,  0.17743127,  0.04594169, -0.24431312,  0.22337559,\n",
       "        0.02724983, -0.0218022 , -0.19361265, -0.18199681, -0.17359681,\n",
       "       -0.0015086 , -0.01472659, -0.16743575, -0.84514213,  0.14478178,\n",
       "       -0.4065662 ,  0.27313149, -0.16871376, -0.1994134 , -0.13054073,\n",
       "        0.03255269, -0.55017006,  0.38131151,  0.52704483,  0.08423062,\n",
       "       -0.24848555, -0.23845927, -0.33051106,  0.16118209, -0.7264629 ,\n",
       "       -0.33346862, -0.35598928,  0.47968715, -0.11829652, -0.04094103,\n",
       "       -0.13746099,  0.47757912,  0.08380625, -0.16608757, -0.02269495,\n",
       "        0.61047113, -0.01637947, -0.55348778,  0.2418807 ,  0.36410737,\n",
       "       -0.23879786,  0.15609293, -0.07274883, -0.05155676, -0.04249015,\n",
       "       -0.18196352,  0.36223558, -0.0806519 ,  0.03152369, -0.12127267], dtype=float32)"
      ]
     },
     "execution_count": 40,
     "metadata": {},
     "output_type": "execute_result"
    }
   ],
   "source": [
    "# vector representation of the word 'love'\n",
    "model['love']"
   ]
  },
  {
   "cell_type": "code",
   "execution_count": 41,
   "metadata": {
    "collapsed": true
   },
   "outputs": [],
   "source": [
    "vec1 = model['love']"
   ]
  },
  {
   "cell_type": "code",
   "execution_count": 42,
   "metadata": {
    "scrolled": true
   },
   "outputs": [
    {
     "data": {
      "text/plain": [
       "[(u'love', 1.0),\n",
       " (u'and', 0.999948263168335),\n",
       " (u'in', 0.99994295835495),\n",
       " (u'my', 0.9999422430992126),\n",
       " (u'so', 0.9999417066574097),\n",
       " (u'to', 0.9999407529830933),\n",
       " (u'that', 0.9999404549598694),\n",
       " (u'thou', 0.9999399781227112),\n",
       " (u'of', 0.9999398589134216),\n",
       " (u'thy', 0.9999396204948425),\n",
       " (u'me', 0.9999381303787231),\n",
       " (u'doth', 0.9999342560768127),\n",
       " (u'is', 0.9999341368675232),\n",
       " (u'their', 0.9999338984489441),\n",
       " (u'the', 0.9999328255653381),\n",
       " (u'with', 0.9999327659606934),\n",
       " (u'but', 0.9999297857284546),\n",
       " (u'this', 0.999929666519165),\n",
       " (u'your', 0.9999285340309143),\n",
       " (u'it', 0.9999279379844666)]"
      ]
     },
     "execution_count": 42,
     "metadata": {},
     "output_type": "execute_result"
    }
   ],
   "source": [
    "# cosine similarity between 'love' and top 20 most similar words \n",
    "# in the context of Shakespears Sonnets. \n",
    "model.wv.similar_by_vector(vec1, topn=20)"
   ]
  },
  {
   "cell_type": "markdown",
   "metadata": {},
   "source": [
    "## What does this mean?\n",
    "\n",
    "It means that the words 'and', 'in', 'my', and 'so', were used most frequently when the word 'love' was used. "
   ]
  },
  {
   "cell_type": "code",
   "execution_count": 43,
   "metadata": {
    "collapsed": true
   },
   "outputs": [],
   "source": [
    "vec2 = model['die']"
   ]
  },
  {
   "cell_type": "code",
   "execution_count": 44,
   "metadata": {},
   "outputs": [
    {
     "data": {
      "text/plain": [
       "[(u'die', 1.0000001192092896),\n",
       " (u'can', 0.9993754029273987),\n",
       " (u'for', 0.9993654489517212),\n",
       " (u'sweet', 0.9993617534637451),\n",
       " (u'be', 0.9993606209754944),\n",
       " (u'upon', 0.9993589520454407),\n",
       " (u'nor', 0.9993535280227661),\n",
       " (u'now', 0.9993531703948975),\n",
       " (u'these', 0.9993516206741333),\n",
       " (u'was', 0.9993469715118408)]"
      ]
     },
     "execution_count": 44,
     "metadata": {},
     "output_type": "execute_result"
    }
   ],
   "source": [
    "model.wv.similar_by_vector(vec2, topn=10)"
   ]
  },
  {
   "cell_type": "code",
   "execution_count": 45,
   "metadata": {
    "collapsed": true
   },
   "outputs": [],
   "source": [
    "vec3 = model['death']"
   ]
  },
  {
   "cell_type": "code",
   "execution_count": 46,
   "metadata": {},
   "outputs": [
    {
     "data": {
      "text/plain": [
       "[(u'death', 1.0000001192092896),\n",
       " (u'with', 0.9998724460601807),\n",
       " (u'is', 0.9998631477355957),\n",
       " (u'should', 0.9998618364334106),\n",
       " (u'to', 0.9998602867126465),\n",
       " (u'their', 0.9998598098754883),\n",
       " (u'and', 0.9998587965965271),\n",
       " (u'more', 0.9998586773872375),\n",
       " (u'me', 0.999858021736145),\n",
       " (u'my', 0.9998569488525391)]"
      ]
     },
     "execution_count": 46,
     "metadata": {},
     "output_type": "execute_result"
    }
   ],
   "source": [
    "model.wv.similar_by_vector(vec3, topn=10)"
   ]
  }
 ],
 "metadata": {
  "kernelspec": {
   "display_name": "Python 2",
   "language": "python",
   "name": "python2"
  },
  "language_info": {
   "codemirror_mode": {
    "name": "ipython",
    "version": 2
   },
   "file_extension": ".py",
   "mimetype": "text/x-python",
   "name": "python",
   "nbconvert_exporter": "python",
   "pygments_lexer": "ipython2",
   "version": "2.7.13"
  }
 },
 "nbformat": 4,
 "nbformat_minor": 2
}
